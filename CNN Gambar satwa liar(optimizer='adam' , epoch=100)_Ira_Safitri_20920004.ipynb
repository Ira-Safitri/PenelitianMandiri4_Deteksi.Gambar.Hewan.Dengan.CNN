{
  "cells": [
    {
      "cell_type": "code",
      "execution_count": 3,
      "metadata": {
        "id": "4TD0R_A7BSDo"
      },
      "outputs": [],
      "source": [
        "from tensorflow.keras.models import Sequential\n",
        "from tensorflow.keras.layers import Conv2D, MaxPooling2D\n",
        "from tensorflow.keras.layers import Activation, Dropout, Flatten, Dense\n",
        "from keras.layers import BatchNormalization\n",
        "from time import time\n",
        "import numpy as np\n",
        "import matplotlib.pyplot as plt\n",
        "%matplotlib inline\n",
        "from tensorflow.keras.preprocessing.image import ImageDataGenerator\n",
        "import tensorflow as tf\n",
        "from sklearn.metrics import confusion_matrix\n",
        "import seaborn as sns\n",
        "from keras.preprocessing import image\n",
        "from tensorflow.keras.models import load_model"
      ]
    },
    {
      "cell_type": "code",
      "execution_count": 4,
      "metadata": {
        "id": "s6vYSlssh6g7",
        "colab": {
          "base_uri": "https://localhost:8080/"
        },
        "outputId": "9a331cc9-a797-4911-d40f-200c07945b6a"
      },
      "outputs": [
        {
          "output_type": "stream",
          "name": "stdout",
          "text": [
            "Mounted at /content/drive\n"
          ]
        }
      ],
      "source": [
        "from google.colab import drive\n",
        "drive.mount('/content/drive')"
      ]
    },
    {
      "cell_type": "code",
      "execution_count": 5,
      "metadata": {
        "id": "kW2iH0rRHcJA"
      },
      "outputs": [],
      "source": [
        "batch_size = 50\n",
        "train_datagen = ImageDataGenerator(rescale=1./255,\n",
        "                                   rotation_range=40,\n",
        "                                   width_shift_range=0.2,\n",
        "                                   height_shift_range=0.2,\n",
        "                                   shear_range=0.2,\n",
        "                                   zoom_range=0.2,\n",
        "                                   horizontal_flip=True,\n",
        "                                   fill_mode='nearest')"
      ]
    },
    {
      "cell_type": "code",
      "execution_count": 6,
      "metadata": {
        "id": "b7XRtBaJHlnq"
      },
      "outputs": [],
      "source": [
        "test_datagen = ImageDataGenerator(rescale=1./255)"
      ]
    },
    {
      "cell_type": "code",
      "execution_count": 7,
      "metadata": {
        "id": "KJdNJUtOHruA",
        "colab": {
          "base_uri": "https://localhost:8080/"
        },
        "outputId": "5f7fc213-5e25-4c0b-c735-f37a91fa28c9"
      },
      "outputs": [
        {
          "output_type": "stream",
          "name": "stdout",
          "text": [
            "Found 2824 images belonging to 3 classes.\n"
          ]
        }
      ],
      "source": [
        "train_set = train_datagen.flow_from_directory('/content/drive/MyDrive/split_data_cnn/train/', classes = [\"cat\",\"dog\",\"wild\"],\n",
        "                                              target_size=(150, 150), batch_size=batch_size,\n",
        "                                              class_mode='categorical', shuffle=True)"
      ]
    },
    {
      "cell_type": "code",
      "execution_count": 8,
      "metadata": {
        "id": "QSd-KLIAH_je",
        "colab": {
          "base_uri": "https://localhost:8080/"
        },
        "outputId": "7cb57b04-7d28-4657-c860-3ad0278e96a6"
      },
      "outputs": [
        {
          "output_type": "stream",
          "name": "stdout",
          "text": [
            "Found 353 images belonging to 3 classes.\n"
          ]
        }
      ],
      "source": [
        "test_set = test_datagen.flow_from_directory('/content/drive/MyDrive/split_data_cnn/val', classes = [\"cat\",\"dog\",\"wild\"],\n",
        "                                            target_size=(150, 150), batch_size=batch_size,\n",
        "                                            class_mode='categorical', shuffle=False)"
      ]
    },
    {
      "cell_type": "code",
      "execution_count": 9,
      "metadata": {
        "id": "m4TFCMjQEhhx"
      },
      "outputs": [],
      "source": [
        "#CNN\n",
        "model = Sequential()\n",
        "model.add(Conv2D(32, kernel_size=(3, 3), activation='relu', input_shape=(150, 150, 3)))\n",
        "model.add(BatchNormalization())\n",
        "\n",
        "model.add(Conv2D(32, kernel_size=(3, 3), activation='relu'))\n",
        "model.add(BatchNormalization())\n",
        "model.add(MaxPooling2D(pool_size=(2, 2)))\n",
        "\n",
        "model.add(Conv2D(32, kernel_size=(3, 3), activation='relu'))\n",
        "model.add(BatchNormalization())\n",
        "model.add(MaxPooling2D(pool_size=(2, 2)))\n",
        "\n",
        "model.add(Conv2D(64, kernel_size=(3, 3), activation='relu'))\n",
        "model.add(BatchNormalization())\n",
        "model.add(MaxPooling2D(pool_size=(2, 2)))\n",
        "\n",
        "# dense \n",
        "model.add(Flatten()) # this converts our 3D feature maps to 1D feature vectors\n",
        "model.add(Dense(64, activation='relu'))\n",
        "model.add(BatchNormalization())\n",
        "model.add(Dropout(0.5))\n",
        "model.add(Dense(3, activation='softmax'))\n"
      ]
    },
    {
      "cell_type": "code",
      "execution_count": 10,
      "metadata": {
        "id": "555B3b14G47M"
      },
      "outputs": [],
      "source": [
        "from keras.callbacks import History \n",
        "history = History()"
      ]
    },
    {
      "cell_type": "code",
      "execution_count": 11,
      "metadata": {
        "id": "sa8ykf1HG5w7",
        "colab": {
          "base_uri": "https://localhost:8080/"
        },
        "outputId": "2fe9e684-8b58-4d08-eaca-9477daaa4449"
      },
      "outputs": [
        {
          "output_type": "stream",
          "name": "stdout",
          "text": [
            "Model: \"sequential\"\n",
            "_________________________________________________________________\n",
            " Layer (type)                Output Shape              Param #   \n",
            "=================================================================\n",
            " conv2d (Conv2D)             (None, 148, 148, 32)      896       \n",
            "                                                                 \n",
            " batch_normalization (BatchN  (None, 148, 148, 32)     128       \n",
            " ormalization)                                                   \n",
            "                                                                 \n",
            " conv2d_1 (Conv2D)           (None, 146, 146, 32)      9248      \n",
            "                                                                 \n",
            " batch_normalization_1 (Batc  (None, 146, 146, 32)     128       \n",
            " hNormalization)                                                 \n",
            "                                                                 \n",
            " max_pooling2d (MaxPooling2D  (None, 73, 73, 32)       0         \n",
            " )                                                               \n",
            "                                                                 \n",
            " conv2d_2 (Conv2D)           (None, 71, 71, 32)        9248      \n",
            "                                                                 \n",
            " batch_normalization_2 (Batc  (None, 71, 71, 32)       128       \n",
            " hNormalization)                                                 \n",
            "                                                                 \n",
            " max_pooling2d_1 (MaxPooling  (None, 35, 35, 32)       0         \n",
            " 2D)                                                             \n",
            "                                                                 \n",
            " conv2d_3 (Conv2D)           (None, 33, 33, 64)        18496     \n",
            "                                                                 \n",
            " batch_normalization_3 (Batc  (None, 33, 33, 64)       256       \n",
            " hNormalization)                                                 \n",
            "                                                                 \n",
            " max_pooling2d_2 (MaxPooling  (None, 16, 16, 64)       0         \n",
            " 2D)                                                             \n",
            "                                                                 \n",
            " flatten (Flatten)           (None, 16384)             0         \n",
            "                                                                 \n",
            " dense (Dense)               (None, 64)                1048640   \n",
            "                                                                 \n",
            " batch_normalization_4 (Batc  (None, 64)               256       \n",
            " hNormalization)                                                 \n",
            "                                                                 \n",
            " dropout (Dropout)           (None, 64)                0         \n",
            "                                                                 \n",
            " dense_1 (Dense)             (None, 3)                 195       \n",
            "                                                                 \n",
            "=================================================================\n",
            "Total params: 1,087,619\n",
            "Trainable params: 1,087,171\n",
            "Non-trainable params: 448\n",
            "_________________________________________________________________\n"
          ]
        }
      ],
      "source": [
        "model.compile(loss='categorical_crossentropy', optimizer='adam', metrics=['accuracy'])\n",
        "model.summary()"
      ]
    },
    {
      "cell_type": "code",
      "execution_count": 12,
      "metadata": {
        "colab": {
          "base_uri": "https://localhost:8080/"
        },
        "id": "RdKRrlYnE3S3",
        "outputId": "0accb59b-6cff-4a7d-e1c5-268dab6291ca"
      },
      "outputs": [
        {
          "output_type": "stream",
          "name": "stdout",
          "text": [
            "Epoch 1/100\n",
            "57/57 [==============================] - 1306s 23s/step - loss: 1.4313 - accuracy: 0.4437 - val_loss: 1.1056 - val_accuracy: 0.7167\n",
            "Epoch 2/100\n",
            "57/57 [==============================] - 274s 5s/step - loss: 0.9681 - accuracy: 0.6020 - val_loss: 0.9085 - val_accuracy: 0.7167\n",
            "Epoch 3/100\n",
            "57/57 [==============================] - 270s 5s/step - loss: 0.8506 - accuracy: 0.6516 - val_loss: 0.9269 - val_accuracy: 0.7195\n",
            "Epoch 4/100\n",
            "57/57 [==============================] - 281s 5s/step - loss: 0.6880 - accuracy: 0.7426 - val_loss: 0.9009 - val_accuracy: 0.7195\n",
            "Epoch 5/100\n",
            "57/57 [==============================] - 273s 5s/step - loss: 0.5833 - accuracy: 0.7762 - val_loss: 1.1669 - val_accuracy: 0.7167\n",
            "Epoch 6/100\n",
            "57/57 [==============================] - 273s 5s/step - loss: 0.5012 - accuracy: 0.8088 - val_loss: 0.5096 - val_accuracy: 0.8272\n",
            "Epoch 7/100\n",
            "57/57 [==============================] - 273s 5s/step - loss: 0.4425 - accuracy: 0.8332 - val_loss: 0.9823 - val_accuracy: 0.7337\n",
            "Epoch 8/100\n",
            "57/57 [==============================] - 276s 5s/step - loss: 0.4480 - accuracy: 0.8339 - val_loss: 1.0144 - val_accuracy: 0.7224\n",
            "Epoch 9/100\n",
            "57/57 [==============================] - 273s 5s/step - loss: 0.4085 - accuracy: 0.8449 - val_loss: 0.3136 - val_accuracy: 0.8640\n",
            "Epoch 10/100\n",
            "57/57 [==============================] - 270s 5s/step - loss: 0.3918 - accuracy: 0.8640 - val_loss: 0.4116 - val_accuracy: 0.8357\n",
            "Epoch 11/100\n",
            "57/57 [==============================] - 276s 5s/step - loss: 0.4404 - accuracy: 0.8375 - val_loss: 0.3775 - val_accuracy: 0.8697\n",
            "Epoch 12/100\n",
            "57/57 [==============================] - 271s 5s/step - loss: 0.3550 - accuracy: 0.8615 - val_loss: 0.3763 - val_accuracy: 0.8414\n",
            "Epoch 13/100\n",
            "57/57 [==============================] - 269s 5s/step - loss: 0.3279 - accuracy: 0.8754 - val_loss: 0.4141 - val_accuracy: 0.8527\n",
            "Epoch 14/100\n",
            "57/57 [==============================] - 273s 5s/step - loss: 0.3255 - accuracy: 0.8782 - val_loss: 0.1852 - val_accuracy: 0.9377\n",
            "Epoch 15/100\n",
            "57/57 [==============================] - 289s 5s/step - loss: 0.2844 - accuracy: 0.8998 - val_loss: 0.3608 - val_accuracy: 0.8725\n",
            "Epoch 16/100\n",
            "57/57 [==============================] - 272s 5s/step - loss: 0.2746 - accuracy: 0.9012 - val_loss: 0.2946 - val_accuracy: 0.8924\n",
            "Epoch 17/100\n",
            "57/57 [==============================] - 268s 5s/step - loss: 0.2705 - accuracy: 0.9030 - val_loss: 0.3153 - val_accuracy: 0.9037\n",
            "Epoch 18/100\n",
            "57/57 [==============================] - 275s 5s/step - loss: 0.2635 - accuracy: 0.9051 - val_loss: 0.2272 - val_accuracy: 0.9207\n",
            "Epoch 19/100\n",
            "57/57 [==============================] - 267s 5s/step - loss: 0.3273 - accuracy: 0.8764 - val_loss: 0.9111 - val_accuracy: 0.7875\n",
            "Epoch 20/100\n",
            "57/57 [==============================] - 290s 5s/step - loss: 0.2665 - accuracy: 0.9012 - val_loss: 0.4465 - val_accuracy: 0.8754\n",
            "Epoch 21/100\n",
            "57/57 [==============================] - 268s 5s/step - loss: 0.2451 - accuracy: 0.9083 - val_loss: 0.2823 - val_accuracy: 0.8924\n",
            "Epoch 22/100\n",
            "57/57 [==============================] - 267s 5s/step - loss: 0.2456 - accuracy: 0.9136 - val_loss: 0.5646 - val_accuracy: 0.8527\n",
            "Epoch 23/100\n",
            "57/57 [==============================] - 269s 5s/step - loss: 0.2293 - accuracy: 0.9221 - val_loss: 0.5864 - val_accuracy: 0.8385\n",
            "Epoch 24/100\n",
            "57/57 [==============================] - 273s 5s/step - loss: 0.2191 - accuracy: 0.9253 - val_loss: 0.2840 - val_accuracy: 0.8952\n",
            "Epoch 25/100\n",
            "57/57 [==============================] - 268s 5s/step - loss: 0.2173 - accuracy: 0.9228 - val_loss: 0.2553 - val_accuracy: 0.9065\n",
            "Epoch 26/100\n",
            "57/57 [==============================] - 268s 5s/step - loss: 0.2021 - accuracy: 0.9341 - val_loss: 0.2488 - val_accuracy: 0.9008\n",
            "Epoch 27/100\n",
            "57/57 [==============================] - 271s 5s/step - loss: 0.1800 - accuracy: 0.9359 - val_loss: 0.1527 - val_accuracy: 0.9490\n",
            "Epoch 28/100\n",
            "57/57 [==============================] - 270s 5s/step - loss: 0.1793 - accuracy: 0.9402 - val_loss: 0.4707 - val_accuracy: 0.8385\n",
            "Epoch 29/100\n",
            "57/57 [==============================] - 267s 5s/step - loss: 0.1899 - accuracy: 0.9334 - val_loss: 0.2233 - val_accuracy: 0.9037\n",
            "Epoch 30/100\n",
            "57/57 [==============================] - 273s 5s/step - loss: 0.1838 - accuracy: 0.9348 - val_loss: 0.1611 - val_accuracy: 0.9377\n",
            "Epoch 31/100\n",
            "57/57 [==============================] - 267s 5s/step - loss: 0.1714 - accuracy: 0.9391 - val_loss: 0.1463 - val_accuracy: 0.9377\n",
            "Epoch 32/100\n",
            "57/57 [==============================] - 266s 5s/step - loss: 0.1655 - accuracy: 0.9433 - val_loss: 0.2480 - val_accuracy: 0.9235\n",
            "Epoch 33/100\n",
            "57/57 [==============================] - 274s 5s/step - loss: 0.1643 - accuracy: 0.9409 - val_loss: 0.6475 - val_accuracy: 0.7932\n",
            "Epoch 34/100\n",
            "57/57 [==============================] - 270s 5s/step - loss: 0.1628 - accuracy: 0.9437 - val_loss: 0.3270 - val_accuracy: 0.9178\n",
            "Epoch 35/100\n",
            "57/57 [==============================] - 266s 5s/step - loss: 0.1577 - accuracy: 0.9394 - val_loss: 0.5343 - val_accuracy: 0.8555\n",
            "Epoch 36/100\n",
            "57/57 [==============================] - 265s 5s/step - loss: 0.1448 - accuracy: 0.9472 - val_loss: 0.2160 - val_accuracy: 0.9263\n",
            "Epoch 37/100\n",
            "57/57 [==============================] - 271s 5s/step - loss: 0.1594 - accuracy: 0.9416 - val_loss: 0.2933 - val_accuracy: 0.9235\n",
            "Epoch 38/100\n",
            "57/57 [==============================] - 269s 5s/step - loss: 0.1471 - accuracy: 0.9479 - val_loss: 0.3332 - val_accuracy: 0.8924\n",
            "Epoch 39/100\n",
            "57/57 [==============================] - 266s 5s/step - loss: 0.1522 - accuracy: 0.9472 - val_loss: 0.4848 - val_accuracy: 0.8697\n",
            "Epoch 40/100\n",
            "57/57 [==============================] - 267s 5s/step - loss: 0.1470 - accuracy: 0.9451 - val_loss: 0.3054 - val_accuracy: 0.9122\n",
            "Epoch 41/100\n",
            "57/57 [==============================] - 287s 5s/step - loss: 0.1431 - accuracy: 0.9518 - val_loss: 0.3928 - val_accuracy: 0.8980\n",
            "Epoch 42/100\n",
            "57/57 [==============================] - 266s 5s/step - loss: 0.1360 - accuracy: 0.9487 - val_loss: 0.1584 - val_accuracy: 0.9433\n",
            "Epoch 43/100\n",
            "57/57 [==============================] - 267s 5s/step - loss: 0.1341 - accuracy: 0.9529 - val_loss: 0.1765 - val_accuracy: 0.9320\n",
            "Epoch 44/100\n",
            "57/57 [==============================] - 269s 5s/step - loss: 0.1387 - accuracy: 0.9533 - val_loss: 0.2054 - val_accuracy: 0.9320\n",
            "Epoch 45/100\n",
            "57/57 [==============================] - 284s 5s/step - loss: 0.1425 - accuracy: 0.9476 - val_loss: 0.1823 - val_accuracy: 0.9348\n",
            "Epoch 46/100\n",
            "57/57 [==============================] - 271s 5s/step - loss: 0.1379 - accuracy: 0.9543 - val_loss: 0.1125 - val_accuracy: 0.9575\n",
            "Epoch 47/100\n",
            "57/57 [==============================] - 269s 5s/step - loss: 0.1196 - accuracy: 0.9564 - val_loss: 0.1215 - val_accuracy: 0.9575\n",
            "Epoch 48/100\n",
            "57/57 [==============================] - 271s 5s/step - loss: 0.1259 - accuracy: 0.9589 - val_loss: 0.6274 - val_accuracy: 0.8329\n",
            "Epoch 49/100\n",
            "57/57 [==============================] - 264s 5s/step - loss: 0.1137 - accuracy: 0.9600 - val_loss: 0.1101 - val_accuracy: 0.9490\n",
            "Epoch 50/100\n",
            "57/57 [==============================] - 268s 5s/step - loss: 0.1237 - accuracy: 0.9572 - val_loss: 0.2883 - val_accuracy: 0.9008\n",
            "Epoch 51/100\n",
            "57/57 [==============================] - 266s 5s/step - loss: 0.1188 - accuracy: 0.9593 - val_loss: 0.1016 - val_accuracy: 0.9660\n",
            "Epoch 52/100\n",
            "57/57 [==============================] - 266s 5s/step - loss: 0.1093 - accuracy: 0.9614 - val_loss: 0.2055 - val_accuracy: 0.9377\n",
            "Epoch 53/100\n",
            "57/57 [==============================] - 269s 5s/step - loss: 0.1145 - accuracy: 0.9579 - val_loss: 0.3567 - val_accuracy: 0.9122\n",
            "Epoch 54/100\n",
            "57/57 [==============================] - 264s 5s/step - loss: 0.1215 - accuracy: 0.9575 - val_loss: 0.2230 - val_accuracy: 0.9377\n",
            "Epoch 55/100\n",
            "57/57 [==============================] - 268s 5s/step - loss: 0.1083 - accuracy: 0.9642 - val_loss: 0.0999 - val_accuracy: 0.9547\n",
            "Epoch 56/100\n",
            "57/57 [==============================] - 264s 5s/step - loss: 0.1111 - accuracy: 0.9621 - val_loss: 2.2226 - val_accuracy: 0.7365\n",
            "Epoch 57/100\n",
            "57/57 [==============================] - 264s 5s/step - loss: 0.1129 - accuracy: 0.9596 - val_loss: 0.2539 - val_accuracy: 0.9320\n",
            "Epoch 58/100\n",
            "57/57 [==============================] - 264s 5s/step - loss: 0.1175 - accuracy: 0.9593 - val_loss: 0.0865 - val_accuracy: 0.9660\n",
            "Epoch 59/100\n",
            "57/57 [==============================] - 267s 5s/step - loss: 0.1078 - accuracy: 0.9632 - val_loss: 0.1259 - val_accuracy: 0.9547\n",
            "Epoch 60/100\n",
            "57/57 [==============================] - 268s 5s/step - loss: 0.1301 - accuracy: 0.9561 - val_loss: 0.2982 - val_accuracy: 0.9235\n",
            "Epoch 61/100\n",
            "57/57 [==============================] - 264s 5s/step - loss: 0.0992 - accuracy: 0.9664 - val_loss: 0.0478 - val_accuracy: 0.9830\n",
            "Epoch 62/100\n",
            "57/57 [==============================] - 262s 5s/step - loss: 0.1022 - accuracy: 0.9618 - val_loss: 0.1092 - val_accuracy: 0.9518\n",
            "Epoch 63/100\n",
            "57/57 [==============================] - 266s 5s/step - loss: 0.0980 - accuracy: 0.9621 - val_loss: 0.3808 - val_accuracy: 0.8924\n",
            "Epoch 64/100\n",
            "57/57 [==============================] - 266s 5s/step - loss: 0.0970 - accuracy: 0.9657 - val_loss: 0.0868 - val_accuracy: 0.9660\n",
            "Epoch 65/100\n",
            "57/57 [==============================] - 264s 5s/step - loss: 0.0890 - accuracy: 0.9674 - val_loss: 0.1470 - val_accuracy: 0.9433\n",
            "Epoch 66/100\n",
            "57/57 [==============================] - 266s 5s/step - loss: 0.0946 - accuracy: 0.9642 - val_loss: 0.3878 - val_accuracy: 0.8867\n",
            "Epoch 67/100\n",
            "57/57 [==============================] - 263s 5s/step - loss: 0.0983 - accuracy: 0.9667 - val_loss: 0.1926 - val_accuracy: 0.9292\n",
            "Epoch 68/100\n",
            "57/57 [==============================] - 275s 5s/step - loss: 0.0908 - accuracy: 0.9688 - val_loss: 0.3512 - val_accuracy: 0.8924\n",
            "Epoch 69/100\n",
            "57/57 [==============================] - 269s 5s/step - loss: 0.1037 - accuracy: 0.9632 - val_loss: 0.1401 - val_accuracy: 0.9575\n",
            "Epoch 70/100\n",
            "57/57 [==============================] - 266s 5s/step - loss: 0.0843 - accuracy: 0.9692 - val_loss: 0.1086 - val_accuracy: 0.9575\n",
            "Epoch 71/100\n",
            "57/57 [==============================] - 265s 5s/step - loss: 0.1001 - accuracy: 0.9667 - val_loss: 0.0968 - val_accuracy: 0.9717\n",
            "Epoch 72/100\n",
            "57/57 [==============================] - 268s 5s/step - loss: 0.1022 - accuracy: 0.9646 - val_loss: 0.1894 - val_accuracy: 0.9235\n",
            "Epoch 73/100\n",
            "57/57 [==============================] - 268s 5s/step - loss: 0.0921 - accuracy: 0.9710 - val_loss: 0.1666 - val_accuracy: 0.9547\n",
            "Epoch 74/100\n",
            "57/57 [==============================] - 266s 5s/step - loss: 0.0817 - accuracy: 0.9671 - val_loss: 0.0566 - val_accuracy: 0.9830\n",
            "Epoch 75/100\n",
            "57/57 [==============================] - 265s 5s/step - loss: 0.0945 - accuracy: 0.9678 - val_loss: 0.1055 - val_accuracy: 0.9688\n",
            "Epoch 76/100\n",
            "57/57 [==============================] - 265s 5s/step - loss: 0.0883 - accuracy: 0.9703 - val_loss: 0.3508 - val_accuracy: 0.9122\n",
            "Epoch 77/100\n",
            "57/57 [==============================] - 268s 5s/step - loss: 0.0891 - accuracy: 0.9642 - val_loss: 0.2152 - val_accuracy: 0.9433\n",
            "Epoch 78/100\n",
            "57/57 [==============================] - 274s 5s/step - loss: 0.0957 - accuracy: 0.9664 - val_loss: 0.0950 - val_accuracy: 0.9717\n",
            "Epoch 79/100\n",
            "57/57 [==============================] - 270s 5s/step - loss: 0.0871 - accuracy: 0.9713 - val_loss: 0.1116 - val_accuracy: 0.9490\n",
            "Epoch 80/100\n",
            "57/57 [==============================] - 269s 5s/step - loss: 0.0893 - accuracy: 0.9717 - val_loss: 0.2173 - val_accuracy: 0.9490\n",
            "Epoch 81/100\n",
            "57/57 [==============================] - 266s 5s/step - loss: 0.1005 - accuracy: 0.9649 - val_loss: 0.3166 - val_accuracy: 0.9122\n",
            "Epoch 82/100\n",
            "57/57 [==============================] - 268s 5s/step - loss: 0.0877 - accuracy: 0.9720 - val_loss: 0.2738 - val_accuracy: 0.9122\n",
            "Epoch 83/100\n",
            "57/57 [==============================] - 267s 5s/step - loss: 0.0701 - accuracy: 0.9749 - val_loss: 0.2191 - val_accuracy: 0.9235\n",
            "Epoch 84/100\n",
            "57/57 [==============================] - 269s 5s/step - loss: 0.0779 - accuracy: 0.9703 - val_loss: 0.1884 - val_accuracy: 0.9462\n",
            "Epoch 85/100\n",
            "57/57 [==============================] - 267s 5s/step - loss: 0.0901 - accuracy: 0.9674 - val_loss: 0.2394 - val_accuracy: 0.9320\n",
            "Epoch 86/100\n",
            "57/57 [==============================] - 272s 5s/step - loss: 0.0820 - accuracy: 0.9710 - val_loss: 0.2843 - val_accuracy: 0.9207\n",
            "Epoch 87/100\n",
            "57/57 [==============================] - 270s 5s/step - loss: 0.0866 - accuracy: 0.9749 - val_loss: 0.1650 - val_accuracy: 0.9490\n",
            "Epoch 88/100\n",
            "57/57 [==============================] - 268s 5s/step - loss: 0.0833 - accuracy: 0.9752 - val_loss: 0.0772 - val_accuracy: 0.9745\n",
            "Epoch 89/100\n",
            "57/57 [==============================] - 264s 5s/step - loss: 0.0790 - accuracy: 0.9745 - val_loss: 0.1559 - val_accuracy: 0.9518\n",
            "Epoch 90/100\n",
            "57/57 [==============================] - 261s 5s/step - loss: 0.0626 - accuracy: 0.9777 - val_loss: 0.1077 - val_accuracy: 0.9660\n",
            "Epoch 91/100\n",
            "57/57 [==============================] - 262s 5s/step - loss: 0.0881 - accuracy: 0.9713 - val_loss: 0.2048 - val_accuracy: 0.9490\n",
            "Epoch 92/100\n",
            "57/57 [==============================] - 262s 5s/step - loss: 0.0769 - accuracy: 0.9788 - val_loss: 0.1470 - val_accuracy: 0.9462\n",
            "Epoch 93/100\n",
            "57/57 [==============================] - 261s 5s/step - loss: 0.0698 - accuracy: 0.9731 - val_loss: 0.2220 - val_accuracy: 0.9292\n",
            "Epoch 94/100\n",
            "57/57 [==============================] - 262s 5s/step - loss: 0.0822 - accuracy: 0.9706 - val_loss: 0.0973 - val_accuracy: 0.9745\n",
            "Epoch 95/100\n",
            "57/57 [==============================] - 263s 5s/step - loss: 0.0596 - accuracy: 0.9809 - val_loss: 0.0907 - val_accuracy: 0.9688\n",
            "Epoch 96/100\n",
            "57/57 [==============================] - 262s 5s/step - loss: 0.0689 - accuracy: 0.9727 - val_loss: 0.2894 - val_accuracy: 0.9263\n",
            "Epoch 97/100\n",
            "57/57 [==============================] - 261s 5s/step - loss: 0.0642 - accuracy: 0.9777 - val_loss: 0.4363 - val_accuracy: 0.9150\n",
            "Epoch 98/100\n",
            "57/57 [==============================] - 266s 5s/step - loss: 0.0690 - accuracy: 0.9770 - val_loss: 0.1340 - val_accuracy: 0.9603\n",
            "Epoch 99/100\n",
            "57/57 [==============================] - 265s 5s/step - loss: 0.0684 - accuracy: 0.9738 - val_loss: 0.0629 - val_accuracy: 0.9745\n",
            "Epoch 100/100\n",
            "57/57 [==============================] - 263s 5s/step - loss: 0.0673 - accuracy: 0.9766 - val_loss: 0.2797 - val_accuracy: 0.9065\n"
          ]
        }
      ],
      "source": [
        "History = model.fit(train_set, validation_data = test_set, batch_size=batch_size,epochs=100,callbacks=[history])"
      ]
    },
    {
      "cell_type": "code",
      "execution_count": 13,
      "metadata": {
        "id": "P-WmdTmfI7Ln",
        "colab": {
          "base_uri": "https://localhost:8080/",
          "height": 781
        },
        "outputId": "3ddee846-b629-4e59-89de-3231b1340b53"
      },
      "outputs": [
        {
          "output_type": "display_data",
          "data": {
            "text/plain": [
              "<Figure size 864x432 with 1 Axes>"
            ],
            "image/png": "[encoded data removed]"
          },
          "metadata": {
            "needs_background": "light"
          }
        },
        {
          "output_type": "display_data",
          "data": {
            "text/plain": [
              "<Figure size 864x432 with 1 Axes>"
            ],
            "image/png": "[encoded data removed]"
          },
          "metadata": {
            "needs_background": "light"
          }
        }
      ],
      "source": [
        "plt.figure(figsize=(12,6))\n",
        "plt.plot(History.history['accuracy'])\n",
        "plt.plot(History.history['val_accuracy'])\n",
        "plt.title('Model Accuracy', fontsize=12)\n",
        "plt.ylabel('Accuracy', fontsize=6)\n",
        "plt.xlabel('Epoch', fontsize=6)\n",
        "plt.legend(['train', 'test'], loc='upper left')\n",
        "plt.show()\n",
        "\n",
        " # summarize history for loss\n",
        "plt.figure(figsize=(12,6))\n",
        "plt.plot(History.history['loss'])\n",
        "plt.plot(History.history['val_loss'])\n",
        "plt.title('Model Loss', fontsize=12)\n",
        "plt.ylabel('Loss',fontsize=6)\n",
        "plt.xlabel('Epoch',fontsize=6)\n",
        "plt.legend(['train', 'test'], loc='upper left')\n",
        "plt.show()"
      ]
    },
    {
      "cell_type": "code",
      "execution_count": 14,
      "metadata": {
        "id": "yrqgq84vSlgS"
      },
      "outputs": [],
      "source": [
        "from sklearn.metrics import confusion_matrix\n",
        "from sklearn.metrics import plot_confusion_matrix\n",
        "from sklearn.metrics import classification_report\n",
        "from sklearn.metrics import ConfusionMatrixDisplay\n",
        "import seaborn as sns"
      ]
    },
    {
      "cell_type": "code",
      "execution_count": 15,
      "metadata": {
        "id": "TF53ppupSrWG",
        "colab": {
          "base_uri": "https://localhost:8080/"
        },
        "outputId": "e09ea884-79d4-4f55-c8cc-a4be4d4e9b0c"
      },
      "outputs": [
        {
          "output_type": "stream",
          "name": "stdout",
          "text": [
            "['cat', 'dog', 'wild']\n"
          ]
        }
      ],
      "source": [
        "target_names = []\n",
        "for key in train_set.class_indices:\n",
        "  target_names.append(key)\n",
        "\n",
        "print(target_names)"
      ]
    },
    {
      "cell_type": "code",
      "execution_count": 21,
      "metadata": {
        "id": "PGMtngxzS0ql",
        "colab": {
          "base_uri": "https://localhost:8080/"
        },
        "outputId": "d28e9f4b-8935-4cb8-ac8b-74acc98d50ec"
      },
      "outputs": [
        {
          "output_type": "stream",
          "name": "stdout",
          "text": [
            "8/8 [==============================] - 8s 941ms/step - loss: 0.2797 - accuracy: 0.9065\n",
            "n Test_Accuracy:- 0.9065155982971191\n"
          ]
        }
      ],
      "source": [
        "accuracy = model.evaluate(test_set)\n",
        "print('n', 'Test_Accuracy:-', accuracy[1])"
      ]
    },
    {
      "cell_type": "code",
      "execution_count": 20,
      "metadata": {
        "id": "J4IVyVdLS53t",
        "colab": {
          "base_uri": "https://localhost:8080/",
          "height": 567
        },
        "outputId": "fd43f32a-40a9-48ce-f948-3b4a65ddbc42"
      },
      "outputs": [
        {
          "output_type": "stream",
          "name": "stdout",
          "text": [
            "confusion matrix\n",
            "[[252   1   0]\n",
            " [  2  47   1]\n",
            " [  6  23  21]]\n"
          ]
        },
        {
          "output_type": "display_data",
          "data": {
            "text/plain": [
              "<Figure size 1008x576 with 2 Axes>"
            ],
            "image/png": "[encoded data removed]"
          },
          "metadata": {
            "needs_background": "light"
          }
        }
      ],
      "source": [
        "pred = model.predict(test_set)\n",
        "y_pred = np.argmax(pred, axis=1)\n",
        "#y_true = np.argmax(pred, axis=1)\n",
        "print('confusion matrix')\n",
        "print(confusion_matrix(test_set.classes, y_pred))\n",
        "    #confusion matrix\n",
        "f, ax = plt.subplots(figsize=(14,8))\n",
        "sns.heatmap(confusion_matrix(test_set.classes, y_pred), annot=True, fmt=\".0f\", ax=ax)\n",
        "plt.xlabel(\"y_pred\")\n",
        "plt.ylabel(\"y_true\")\n",
        "plt.show()"
      ]
    },
    {
      "cell_type": "code",
      "execution_count": 19,
      "metadata": {
        "id": "-9ZWTy0yTCp5",
        "colab": {
          "base_uri": "https://localhost:8080/"
        },
        "outputId": "8b7fb129-c501-4fc2-89e4-c125fbab73b6"
      },
      "outputs": [
        {
          "output_type": "stream",
          "name": "stdout",
          "text": [
            "Classification Report\n",
            "              precision    recall  f1-score   support\n",
            "\n",
            "         cat       0.97      1.00      0.98       253\n",
            "         dog       0.66      0.94      0.78        50\n",
            "        wild       0.95      0.42      0.58        50\n",
            "\n",
            "    accuracy                           0.91       353\n",
            "   macro avg       0.86      0.79      0.78       353\n",
            "weighted avg       0.92      0.91      0.90       353\n",
            "\n"
          ]
        }
      ],
      "source": [
        "print('Classification Report')\n",
        "print(classification_report(test_set.classes, y_pred, target_names=target_names ))"
      ]
    }
  ],
  "metadata": {
    "colab": {
      "collapsed_sections": [],
      "name": "Deteksi_Gambar_Hewan_Dengan_CNN(optimizer='adam'_Ira_Safitri_20920004 (1).ipynb",
      "provenance": []
    },
    "kernelspec": {
      "display_name": "Python 3",
      "name": "python3"
    },
    "language_info": {
      "name": "python"
    }
  },
  "nbformat": 4,
  "nbformat_minor": 0
}