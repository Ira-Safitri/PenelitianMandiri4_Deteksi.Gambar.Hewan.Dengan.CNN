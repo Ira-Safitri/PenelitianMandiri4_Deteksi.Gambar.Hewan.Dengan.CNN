{
  "nbformat": 4,
  "nbformat_minor": 0,
  "metadata": {
    "colab": {
      "name": "Deteksi_Gambar_Hewan_Dengan_CNN(optimizer='adam'_Ira_Safitri_20920004.ipynb",
      "provenance": [],
      "collapsed_sections": []
    },
    "kernelspec": {
      "name": "python3",
      "display_name": "Python 3"
    },
    "language_info": {
      "name": "python"
    }
  },
  "cells": [
    {
      "cell_type": "code",
      "metadata": {
        "id": "4TD0R_A7BSDo"
      },
      "source": [
        "from tensorflow.keras.models import Sequential\n",
        "from tensorflow.keras.layers import Conv2D, MaxPooling2D\n",
        "from tensorflow.keras.layers import Activation, Dropout, Flatten, Dense\n",
        "from keras.layers import BatchNormalization\n",
        "from time import time\n",
        "import numpy as np\n",
        "import matplotlib.pyplot as plt\n",
        "%matplotlib inline\n",
        "from tensorflow.keras.preprocessing.image import ImageDataGenerator\n",
        "import tensorflow as tf\n",
        "from sklearn.metrics import confusion_matrix\n",
        "import seaborn as sns\n",
        "from keras.preprocessing import image\n",
        "from tensorflow.keras.models import load_model"
      ],
      "execution_count": null,
      "outputs": []
    },
    {
      "cell_type": "code",
      "metadata": {
        "colab": {
          "base_uri": "https://localhost:8080/"
        },
        "id": "s6vYSlssh6g7",
        "outputId": "8bd128ea-f7fb-4064-8922-371f3eed8f66"
      },
      "source": [
        "from google.colab import drive\n",
        "drive.mount('/content/drive')"
      ],
      "execution_count": null,
      "outputs": [
        {
          "output_type": "stream",
          "name": "stdout",
          "text": [
            "Mounted at /content/drive\n"
          ]
        }
      ]
    },
    {
      "cell_type": "code",
      "metadata": {
        "id": "kW2iH0rRHcJA"
      },
      "source": [
        "batch_size = 50\n",
        "train_datagen = ImageDataGenerator(rescale=1./255,\n",
        "                                   rotation_range=40,\n",
        "                                   width_shift_range=0.2,\n",
        "                                   height_shift_range=0.2,\n",
        "                                   shear_range=0.2,\n",
        "                                   zoom_range=0.2,\n",
        "                                   horizontal_flip=True,\n",
        "                                   fill_mode='nearest')"
      ],
      "execution_count": null,
      "outputs": []
    },
    {
      "cell_type": "code",
      "metadata": {
        "id": "b7XRtBaJHlnq"
      },
      "source": [
        "test_datagen = ImageDataGenerator(rescale=1./255)"
      ],
      "execution_count": null,
      "outputs": []
    },
    {
      "cell_type": "code",
      "metadata": {
        "id": "KJdNJUtOHruA",
        "colab": {
          "base_uri": "https://localhost:8080/"
        },
        "outputId": "930eef70-7099-4a1e-eacf-c5c3cd14f992"
      },
      "source": [
        "train_set = train_datagen.flow_from_directory('/content/drive/MyDrive/split_data_cnn/train/', classes = [\"cat\",\"dog\",\"wild\"],\n",
        "                                              target_size=(150, 150), batch_size=batch_size,\n",
        "                                              class_mode='categorical', shuffle=True)"
      ],
      "execution_count": null,
      "outputs": [
        {
          "output_type": "stream",
          "name": "stdout",
          "text": [
            "Found 2824 images belonging to 3 classes.\n"
          ]
        }
      ]
    },
    {
      "cell_type": "code",
      "metadata": {
        "id": "QSd-KLIAH_je",
        "colab": {
          "base_uri": "https://localhost:8080/"
        },
        "outputId": "dc57ed8a-027f-4af1-c0e5-dcfd35966c4d"
      },
      "source": [
        "test_set = test_datagen.flow_from_directory('/content/drive/MyDrive/split_data_cnn/val', classes = [\"cat\",\"dog\",\"wild\"],\n",
        "                                            target_size=(150, 150), batch_size=batch_size,\n",
        "                                            class_mode='categorical', shuffle=False)"
      ],
      "execution_count": null,
      "outputs": [
        {
          "output_type": "stream",
          "name": "stdout",
          "text": [
            "Found 353 images belonging to 3 classes.\n"
          ]
        }
      ]
    },
    {
      "cell_type": "code",
      "metadata": {
        "id": "m4TFCMjQEhhx"
      },
      "source": [
        "#CNN\n",
        "model = Sequential()\n",
        "model.add(Conv2D(32, kernel_size=(3, 3), activation='relu', input_shape=(150, 150, 3)))\n",
        "model.add(BatchNormalization())\n",
        "\n",
        "model.add(Conv2D(32, kernel_size=(3, 3), activation='relu'))\n",
        "model.add(BatchNormalization())\n",
        "model.add(MaxPooling2D(pool_size=(2, 2)))\n",
        "\n",
        "model.add(Conv2D(32, kernel_size=(3, 3), activation='relu'))\n",
        "model.add(BatchNormalization())\n",
        "model.add(MaxPooling2D(pool_size=(2, 2)))\n",
        "\n",
        "model.add(Conv2D(64, kernel_size=(3, 3), activation='relu'))\n",
        "model.add(BatchNormalization())\n",
        "model.add(MaxPooling2D(pool_size=(2, 2)))\n",
        "\n",
        "# dense \n",
        "model.add(Flatten()) # this converts our 3D feature maps to 1D feature vectors\n",
        "model.add(Dense(64, activation='relu'))\n",
        "model.add(BatchNormalization())\n",
        "model.add(Dropout(0.5))\n",
        "model.add(Dense(3, activation='softmax'))\n"
      ],
      "execution_count": null,
      "outputs": []
    },
    {
      "cell_type": "code",
      "metadata": {
        "id": "555B3b14G47M"
      },
      "source": [
        "from keras.callbacks import History \n",
        "history = History()"
      ],
      "execution_count": null,
      "outputs": []
    },
    {
      "cell_type": "code",
      "metadata": {
        "colab": {
          "base_uri": "https://localhost:8080/"
        },
        "id": "sa8ykf1HG5w7",
        "outputId": "1f706091-05a1-4bcb-98fb-6e852159136c"
      },
      "source": [
        "model.compile(loss='categorical_crossentropy', optimizer='adam', metrics=['accuracy'])\n",
        "model.summary()"
      ],
      "execution_count": null,
      "outputs": [
        {
          "output_type": "stream",
          "name": "stdout",
          "text": [
            "Model: \"sequential\"\n",
            "_________________________________________________________________\n",
            " Layer (type)                Output Shape              Param #   \n",
            "=================================================================\n",
            " conv2d (Conv2D)             (None, 148, 148, 32)      896       \n",
            "                                                                 \n",
            " batch_normalization (BatchN  (None, 148, 148, 32)     128       \n",
            " ormalization)                                                   \n",
            "                                                                 \n",
            " conv2d_1 (Conv2D)           (None, 146, 146, 32)      9248      \n",
            "                                                                 \n",
            " batch_normalization_1 (Batc  (None, 146, 146, 32)     128       \n",
            " hNormalization)                                                 \n",
            "                                                                 \n",
            " max_pooling2d (MaxPooling2D  (None, 73, 73, 32)       0         \n",
            " )                                                               \n",
            "                                                                 \n",
            " conv2d_2 (Conv2D)           (None, 71, 71, 32)        9248      \n",
            "                                                                 \n",
            " batch_normalization_2 (Batc  (None, 71, 71, 32)       128       \n",
            " hNormalization)                                                 \n",
            "                                                                 \n",
            " max_pooling2d_1 (MaxPooling  (None, 35, 35, 32)       0         \n",
            " 2D)                                                             \n",
            "                                                                 \n",
            " conv2d_3 (Conv2D)           (None, 33, 33, 64)        18496     \n",
            "                                                                 \n",
            " batch_normalization_3 (Batc  (None, 33, 33, 64)       256       \n",
            " hNormalization)                                                 \n",
            "                                                                 \n",
            " max_pooling2d_2 (MaxPooling  (None, 16, 16, 64)       0         \n",
            " 2D)                                                             \n",
            "                                                                 \n",
            " flatten (Flatten)           (None, 16384)             0         \n",
            "                                                                 \n",
            " dense (Dense)               (None, 64)                1048640   \n",
            "                                                                 \n",
            " batch_normalization_4 (Batc  (None, 64)               256       \n",
            " hNormalization)                                                 \n",
            "                                                                 \n",
            " dropout (Dropout)           (None, 64)                0         \n",
            "                                                                 \n",
            " dense_1 (Dense)             (None, 3)                 195       \n",
            "                                                                 \n",
            "=================================================================\n",
            "Total params: 1,087,619\n",
            "Trainable params: 1,087,171\n",
            "Non-trainable params: 448\n",
            "_________________________________________________________________\n"
          ]
        }
      ]
    },
    {
      "cell_type": "code",
      "metadata": {
        "id": "RdKRrlYnE3S3",
        "colab": {
          "base_uri": "https://localhost:8080/"
        },
        "outputId": "846dcf20-cddf-49fc-f0e5-fd3f661b29a7"
      },
      "source": [
        "History = model.fit(train_set, validation_data = test_set, batch_size=batch_size,epochs=50,callbacks=[history])"
      ],
      "execution_count": 17,
      "outputs": [
        {
          "output_type": "stream",
          "name": "stdout",
          "text": [
            "Epoch 1/50\n",
            "57/57 [==============================] - 731s 13s/step - loss: 1.4086 - accuracy: 0.4749 - val_loss: 0.9494 - val_accuracy: 0.7167\n",
            "Epoch 2/50\n",
            "57/57 [==============================] - 277s 5s/step - loss: 1.0152 - accuracy: 0.5882 - val_loss: 1.1261 - val_accuracy: 0.7167\n",
            "Epoch 3/50\n",
            "57/57 [==============================] - 278s 5s/step - loss: 0.8105 - accuracy: 0.6686 - val_loss: 0.7280 - val_accuracy: 0.7167\n",
            "Epoch 4/50\n",
            "57/57 [==============================] - 277s 5s/step - loss: 0.6926 - accuracy: 0.7302 - val_loss: 1.9402 - val_accuracy: 0.7167\n",
            "Epoch 5/50\n",
            "57/57 [==============================] - 275s 5s/step - loss: 0.6135 - accuracy: 0.7613 - val_loss: 4.4749 - val_accuracy: 0.7167\n",
            "Epoch 6/50\n",
            "57/57 [==============================] - 273s 5s/step - loss: 0.5548 - accuracy: 0.7932 - val_loss: 1.6115 - val_accuracy: 0.7394\n",
            "Epoch 7/50\n",
            "57/57 [==============================] - 274s 5s/step - loss: 0.4766 - accuracy: 0.8152 - val_loss: 1.0323 - val_accuracy: 0.7564\n",
            "Epoch 8/50\n",
            "57/57 [==============================] - 273s 5s/step - loss: 0.4365 - accuracy: 0.8392 - val_loss: 0.3467 - val_accuracy: 0.8810\n",
            "Epoch 9/50\n",
            "57/57 [==============================] - 283s 5s/step - loss: 0.4064 - accuracy: 0.8509 - val_loss: 0.5943 - val_accuracy: 0.7507\n",
            "Epoch 10/50\n",
            "57/57 [==============================] - 280s 5s/step - loss: 0.3724 - accuracy: 0.8573 - val_loss: 0.3575 - val_accuracy: 0.8584\n",
            "Epoch 11/50\n",
            "57/57 [==============================] - 277s 5s/step - loss: 0.3618 - accuracy: 0.8644 - val_loss: 0.4636 - val_accuracy: 0.8499\n",
            "Epoch 12/50\n",
            "57/57 [==============================] - 278s 5s/step - loss: 0.3315 - accuracy: 0.8888 - val_loss: 0.3283 - val_accuracy: 0.8697\n",
            "Epoch 13/50\n",
            "57/57 [==============================] - 276s 5s/step - loss: 0.3318 - accuracy: 0.8775 - val_loss: 0.2753 - val_accuracy: 0.9008\n",
            "Epoch 14/50\n",
            "57/57 [==============================] - 276s 5s/step - loss: 0.3085 - accuracy: 0.8888 - val_loss: 0.1793 - val_accuracy: 0.9235\n",
            "Epoch 15/50\n",
            "57/57 [==============================] - 275s 5s/step - loss: 0.3093 - accuracy: 0.8877 - val_loss: 0.2196 - val_accuracy: 0.9178\n",
            "Epoch 16/50\n",
            "57/57 [==============================] - 272s 5s/step - loss: 0.2773 - accuracy: 0.8920 - val_loss: 0.3045 - val_accuracy: 0.8867\n",
            "Epoch 17/50\n",
            "57/57 [==============================] - 269s 5s/step - loss: 0.2709 - accuracy: 0.9033 - val_loss: 0.2398 - val_accuracy: 0.9008\n",
            "Epoch 18/50\n",
            "57/57 [==============================] - 272s 5s/step - loss: 0.2602 - accuracy: 0.9026 - val_loss: 0.2691 - val_accuracy: 0.9093\n",
            "Epoch 19/50\n",
            "57/57 [==============================] - 269s 5s/step - loss: 0.2761 - accuracy: 0.8973 - val_loss: 0.3369 - val_accuracy: 0.8924\n",
            "Epoch 20/50\n",
            "57/57 [==============================] - 269s 5s/step - loss: 0.2572 - accuracy: 0.9055 - val_loss: 0.1843 - val_accuracy: 0.9263\n",
            "Epoch 21/50\n",
            "57/57 [==============================] - 273s 5s/step - loss: 0.2262 - accuracy: 0.9214 - val_loss: 0.2030 - val_accuracy: 0.9263\n",
            "Epoch 22/50\n",
            "57/57 [==============================] - 273s 5s/step - loss: 0.2256 - accuracy: 0.9210 - val_loss: 0.3835 - val_accuracy: 0.8839\n",
            "Epoch 23/50\n",
            "57/57 [==============================] - 282s 5s/step - loss: 0.2307 - accuracy: 0.9129 - val_loss: 0.5361 - val_accuracy: 0.8442\n",
            "Epoch 24/50\n",
            "57/57 [==============================] - 293s 5s/step - loss: 0.2333 - accuracy: 0.9186 - val_loss: 0.2581 - val_accuracy: 0.8980\n",
            "Epoch 25/50\n",
            "57/57 [==============================] - 287s 5s/step - loss: 0.2025 - accuracy: 0.9249 - val_loss: 0.3647 - val_accuracy: 0.8584\n",
            "Epoch 26/50\n",
            "57/57 [==============================] - 294s 5s/step - loss: 0.2168 - accuracy: 0.9217 - val_loss: 0.2129 - val_accuracy: 0.9037\n",
            "Epoch 27/50\n",
            "57/57 [==============================] - 289s 5s/step - loss: 0.2041 - accuracy: 0.9260 - val_loss: 0.2420 - val_accuracy: 0.9122\n",
            "Epoch 28/50\n",
            "57/57 [==============================] - 281s 5s/step - loss: 0.1788 - accuracy: 0.9394 - val_loss: 0.1743 - val_accuracy: 0.9405\n",
            "Epoch 29/50\n",
            "57/57 [==============================] - 275s 5s/step - loss: 0.1763 - accuracy: 0.9363 - val_loss: 0.1870 - val_accuracy: 0.9348\n",
            "Epoch 30/50\n",
            "57/57 [==============================] - 276s 5s/step - loss: 0.1801 - accuracy: 0.9409 - val_loss: 0.2036 - val_accuracy: 0.9065\n",
            "Epoch 31/50\n",
            "57/57 [==============================] - 273s 5s/step - loss: 0.1770 - accuracy: 0.9391 - val_loss: 0.1632 - val_accuracy: 0.9292\n",
            "Epoch 32/50\n",
            "57/57 [==============================] - 275s 5s/step - loss: 0.1830 - accuracy: 0.9317 - val_loss: 0.3453 - val_accuracy: 0.8725\n",
            "Epoch 33/50\n",
            "57/57 [==============================] - 278s 5s/step - loss: 0.1773 - accuracy: 0.9370 - val_loss: 0.2852 - val_accuracy: 0.8952\n",
            "Epoch 34/50\n",
            "57/57 [==============================] - 272s 5s/step - loss: 0.1635 - accuracy: 0.9384 - val_loss: 0.1537 - val_accuracy: 0.9377\n",
            "Epoch 35/50\n",
            "57/57 [==============================] - 266s 5s/step - loss: 0.1695 - accuracy: 0.9338 - val_loss: 0.3798 - val_accuracy: 0.8697\n",
            "Epoch 36/50\n",
            "57/57 [==============================] - 266s 5s/step - loss: 0.1559 - accuracy: 0.9451 - val_loss: 0.2590 - val_accuracy: 0.8980\n",
            "Epoch 37/50\n",
            "57/57 [==============================] - 266s 5s/step - loss: 0.1475 - accuracy: 0.9476 - val_loss: 0.1132 - val_accuracy: 0.9547\n",
            "Epoch 38/50\n",
            "57/57 [==============================] - 266s 5s/step - loss: 0.1459 - accuracy: 0.9462 - val_loss: 0.1192 - val_accuracy: 0.9490\n",
            "Epoch 39/50\n",
            "57/57 [==============================] - 265s 5s/step - loss: 0.1434 - accuracy: 0.9529 - val_loss: 0.2972 - val_accuracy: 0.9207\n",
            "Epoch 40/50\n",
            "57/57 [==============================] - 264s 5s/step - loss: 0.1402 - accuracy: 0.9508 - val_loss: 0.1012 - val_accuracy: 0.9547\n",
            "Epoch 41/50\n",
            "57/57 [==============================] - 266s 5s/step - loss: 0.1523 - accuracy: 0.9494 - val_loss: 0.2386 - val_accuracy: 0.9348\n",
            "Epoch 42/50\n",
            "57/57 [==============================] - 266s 5s/step - loss: 0.1481 - accuracy: 0.9487 - val_loss: 0.0845 - val_accuracy: 0.9717\n",
            "Epoch 43/50\n",
            "57/57 [==============================] - 266s 5s/step - loss: 0.1480 - accuracy: 0.9508 - val_loss: 0.4302 - val_accuracy: 0.8442\n",
            "Epoch 44/50\n",
            "57/57 [==============================] - 265s 5s/step - loss: 0.1335 - accuracy: 0.9540 - val_loss: 0.2775 - val_accuracy: 0.9093\n",
            "Epoch 45/50\n",
            "57/57 [==============================] - 265s 5s/step - loss: 0.1418 - accuracy: 0.9483 - val_loss: 0.1744 - val_accuracy: 0.9348\n",
            "Epoch 46/50\n",
            "57/57 [==============================] - 263s 5s/step - loss: 0.1345 - accuracy: 0.9494 - val_loss: 0.2923 - val_accuracy: 0.9122\n",
            "Epoch 47/50\n",
            "57/57 [==============================] - 264s 5s/step - loss: 0.1321 - accuracy: 0.9529 - val_loss: 0.0994 - val_accuracy: 0.9575\n",
            "Epoch 48/50\n",
            "57/57 [==============================] - 259s 5s/step - loss: 0.1267 - accuracy: 0.9596 - val_loss: 0.4140 - val_accuracy: 0.8697\n",
            "Epoch 49/50\n",
            "57/57 [==============================] - 254s 4s/step - loss: 0.1327 - accuracy: 0.9550 - val_loss: 0.2725 - val_accuracy: 0.9093\n",
            "Epoch 50/50\n",
            "57/57 [==============================] - 259s 5s/step - loss: 0.1260 - accuracy: 0.9522 - val_loss: 0.1648 - val_accuracy: 0.9348\n"
          ]
        }
      ]
    },
    {
      "cell_type": "code",
      "metadata": {
        "id": "P-WmdTmfI7Ln",
        "colab": {
          "base_uri": "https://localhost:8080/",
          "height": 781
        },
        "outputId": "a153b4d4-7b18-41ca-c307-d972742c06e2"
      },
      "source": [
        "plt.figure(figsize=(12,6))\n",
        "plt.plot(History.history['accuracy'])\n",
        "plt.plot(History.history['val_accuracy'])\n",
        "plt.title('Model Accuracy', fontsize=12)\n",
        "plt.ylabel('Accuracy', fontsize=6)\n",
        "plt.xlabel('Epoch', fontsize=6)\n",
        "plt.legend(['train', 'test'], loc='upper left')\n",
        "plt.show()\n",
        "\n",
        " # summarize history for loss\n",
        "plt.figure(figsize=(12,6))\n",
        "plt.plot(History.history['loss'])\n",
        "plt.plot(History.history['val_loss'])\n",
        "plt.title('Model Loss', fontsize=12)\n",
        "plt.ylabel('Loss',fontsize=6)\n",
        "plt.xlabel('Epoch',fontsize=6)\n",
        "plt.legend(['train', 'test'], loc='upper left')\n",
        "plt.show()"
      ],
      "execution_count": 18,
      "outputs": [
        {
          "output_type": "display_data",
          "data": {
            "image/png": "[encoded data removed]",
            "text/plain": [
              "<Figure size 864x432 with 1 Axes>"
            ]
          },
          "metadata": {
            "needs_background": "light"
          }
        },
        {
          "output_type": "display_data",
          "data": {
            "image/png": "[encoded data removed]",
            "text/plain": [
              "<Figure size 864x432 with 1 Axes>"
            ]
          },
          "metadata": {
            "needs_background": "light"
          }
        }
      ]
    },
    {
      "cell_type": "code",
      "metadata": {
        "id": "yrqgq84vSlgS"
      },
      "source": [
        "from sklearn.metrics import confusion_matrix\n",
        "from sklearn.metrics import plot_confusion_matrix\n",
        "from sklearn.metrics import classification_report\n",
        "from sklearn.metrics import ConfusionMatrixDisplay\n",
        "import seaborn as sns"
      ],
      "execution_count": 19,
      "outputs": []
    },
    {
      "cell_type": "code",
      "metadata": {
        "colab": {
          "base_uri": "https://localhost:8080/"
        },
        "id": "TF53ppupSrWG",
        "outputId": "a518fb93-0e2f-4345-d24f-c3df5cc2098c"
      },
      "source": [
        "target_names = []\n",
        "for key in train_set.class_indices:\n",
        "  target_names.append(key)\n",
        "\n",
        "print(target_names)"
      ],
      "execution_count": 20,
      "outputs": [
        {
          "output_type": "stream",
          "name": "stdout",
          "text": [
            "['cat', 'dog', 'wild']\n"
          ]
        }
      ]
    },
    {
      "cell_type": "code",
      "metadata": {
        "colab": {
          "base_uri": "https://localhost:8080/"
        },
        "id": "PGMtngxzS0ql",
        "outputId": "1230c462-555b-4881-8c0f-5b466ca69b4f"
      },
      "source": [
        "accuracy = model.evaluate(test_set)\n",
        "print('n', 'Test_Accuracy:-', accuracy[1])"
      ],
      "execution_count": 21,
      "outputs": [
        {
          "output_type": "stream",
          "name": "stdout",
          "text": [
            "8/8 [==============================] - 8s 912ms/step - loss: 0.1648 - accuracy: 0.9348\n",
            "n Test_Accuracy:- 0.9348441958427429\n"
          ]
        }
      ]
    },
    {
      "cell_type": "code",
      "metadata": {
        "colab": {
          "base_uri": "https://localhost:8080/",
          "height": 567
        },
        "id": "J4IVyVdLS53t",
        "outputId": "5716a910-c2f2-49b0-d25f-e8b2cda27554"
      },
      "source": [
        "pred = model.predict(test_set)\n",
        "y_pred = np.argmax(pred, axis=1)\n",
        "#y_true = np.argmax(pred, axis=1)\n",
        "print('confusion matrix')\n",
        "print(confusion_matrix(test_set.classes, y_pred))\n",
        "    #confusion matrix\n",
        "f, ax = plt.subplots(figsize=(14,8))\n",
        "sns.heatmap(confusion_matrix(test_set.classes, y_pred), annot=True, fmt=\".0f\", ax=ax)\n",
        "plt.xlabel(\"y_pred\")\n",
        "plt.ylabel(\"y_true\")\n",
        "plt.show()"
      ],
      "execution_count": 22,
      "outputs": [
        {
          "output_type": "stream",
          "name": "stdout",
          "text": [
            "confusion matrix\n",
            "[[253   0   0]\n",
            " [ 12  38   0]\n",
            " [  9   2  39]]\n"
          ]
        },
        {
          "output_type": "display_data",
          "data": {
            "image/png": "[encoded data removed]",
            "text/plain": [
              "<Figure size 1008x576 with 2 Axes>"
            ]
          },
          "metadata": {
            "needs_background": "light"
          }
        }
      ]
    },
    {
      "cell_type": "code",
      "metadata": {
        "colab": {
          "base_uri": "https://localhost:8080/"
        },
        "id": "-9ZWTy0yTCp5",
        "outputId": "498917e3-dd34-45f6-fe84-f0bd1320f6dd"
      },
      "source": [
        "print('Classification Report')\n",
        "print(classification_report(test_set.classes, y_pred, target_names=target_names ))"
      ],
      "execution_count": 23,
      "outputs": [
        {
          "output_type": "stream",
          "name": "stdout",
          "text": [
            "Classification Report\n",
            "              precision    recall  f1-score   support\n",
            "\n",
            "         cat       0.92      1.00      0.96       253\n",
            "         dog       0.95      0.76      0.84        50\n",
            "        wild       1.00      0.78      0.88        50\n",
            "\n",
            "    accuracy                           0.93       353\n",
            "   macro avg       0.96      0.85      0.89       353\n",
            "weighted avg       0.94      0.93      0.93       353\n",
            "\n"
          ]
        }
      ]
    }
  ]
}